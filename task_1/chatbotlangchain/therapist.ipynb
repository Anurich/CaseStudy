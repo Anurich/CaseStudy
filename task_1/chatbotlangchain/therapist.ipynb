{
 "cells": [
  {
   "cell_type": "code",
   "execution_count": 1,
   "metadata": {},
   "outputs": [
    {
     "name": "stdout",
     "output_type": "stream",
     "text": [
      "\n",
      "    In oder to build the therapist I can think of two solution.\n",
      "    1. Given the query or speech by user A: we can try to understand the tone or emotion in the speech or text, for that we can use either LLMs, to\n",
      "    find the emotion or can fine-tune our own emotion detection (which is done by me in the emotion detection folder). \n",
      "    2. Once we know if person is suffering from anger management issue or depression we can perform the chatting \n",
      "    with the corresponding Agent type: for example Agent therapist expert in depression handling, or Agent therapise expert in anger handling.\n",
      "    3. We can also use the same Agent expert in both. \n",
      "\n",
      "    4. Another approach could be find the emotion of a person, based on speech or text. and than pull out the correspoinding informations based on\n",
      "    the certain problem for example if person suffering from anger issue we will have the dataset for handling the anger issue created or framed \n",
      "    by actual therapist, than we can create a RAG system which will help us answer the user query. \n",
      "\n",
      "    5. To handle the Hallucination we can grade the responses generated from LLMs. \n",
      "    6. We can also handle the case when the agent unable to answer in that case we can move to search online from internet to generate the \n",
      "    answer. \n",
      "\n"
     ]
    }
   ],
   "source": [
    "print(\"\"\"\n",
    "    In oder to build the therapist I can think of two solution.\n",
    "    1. Given the query or speech by user A: we can try to understand the tone or emotion in the speech or text, for that we can use either LLMs, to\n",
    "    find the emotion or can fine-tune our own emotion detection (which is done by me in the emotion detection folder). \n",
    "    2. Once we know if person is suffering from anger management issue or depression we can perform the chatting \n",
    "    with the corresponding Agent type: for example Agent therapist expert in depression handling, or Agent therapise expert in anger handling.\n",
    "    3. We can also use the same Agent expert in both. \n",
    "\n",
    "    4. Another approach could be find the emotion of a person, based on speech or text. and than pull out the correspoinding informations based on\n",
    "    the certain problem for example if person suffering from anger issue we will have the dataset for handling the anger issue created or framed \n",
    "    by actual therapist, than we can create a RAG system which will help us answer the user query. \n",
    "\n",
    "    5. To handle the Hallucination we can grade the responses generated from LLMs. \n",
    "    6. We can also handle the case when the agent unable to answer in that case we can move to search online from internet to generate the \n",
    "    answer. \n",
    "\"\"\")"
   ]
  },
  {
   "cell_type": "markdown",
   "metadata": {},
   "source": [
    "# Import dataset."
   ]
  },
  {
   "cell_type": "code",
   "execution_count": 2,
   "metadata": {},
   "outputs": [
    {
     "name": "stderr",
     "output_type": "stream",
     "text": [
      "/Users/apple/miniforge3/envs/env-langchain/lib/python3.12/site-packages/tqdm/auto.py:21: TqdmWarning: IProgress not found. Please update jupyter and ipywidgets. See https://ipywidgets.readthedocs.io/en/stable/user_install.html\n",
      "  from .autonotebook import tqdm as notebook_tqdm\n"
     ]
    }
   ],
   "source": [
    "import datasets\n",
    "data = datasets.load_dataset(\"Amod/mental_health_counseling_conversations\")"
   ]
  },
  {
   "cell_type": "code",
   "execution_count": 3,
   "metadata": {},
   "outputs": [],
   "source": [
    "all_responses = []\n",
    "for train in data[\"train\"]:\n",
    "    all_responses.append(train[\"Response\"])\n",
    "mental_health = \" \".join(all_responses)"
   ]
  },
  {
   "cell_type": "markdown",
   "metadata": {},
   "source": [
    "## Let's use langgraph to tackle this issue."
   ]
  },
  {
   "cell_type": "code",
   "execution_count": 4,
   "metadata": {},
   "outputs": [],
   "source": [
    "local_llm = \"mistral\""
   ]
  },
  {
   "cell_type": "markdown",
   "metadata": {},
   "source": [
    "Defining the two different retriver\n",
    "* For anger.\n",
    "* For depression."
   ]
  },
  {
   "cell_type": "code",
   "execution_count": 5,
   "metadata": {},
   "outputs": [],
   "source": [
    "from langchain.text_splitter import RecursiveCharacterTextSplitter\n",
    "from langchain.vectorstores import Chroma\n",
    "from langchain_community.embeddings import GPT4AllEmbeddings\n",
    "from langchain.docstore.document import Document\n",
    "\n",
    "doc = Document(page_content=mental_health,metadata={\"source\": \"local\"})\n",
    "# retreival system \n",
    "embeddings = GPT4AllEmbeddings()\n",
    "text_splitter = RecursiveCharacterTextSplitter.from_tiktoken_encoder(\n",
    "    chunk_size=256, chunk_overlap=0\n",
    ")\n",
    "\n",
    "splitted_docs = text_splitter.split_documents([doc])\n",
    "# let's compute the embeddings \n",
    "\n",
    "vectorstore = Chroma.from_documents(\n",
    "    documents=splitted_docs,\n",
    "    collection_name=\"rag-therapist-depression\",\n",
    "    embedding=GPT4AllEmbeddings(),\n",
    ")\n",
    "retriever_depression = vectorstore.as_retriever(search_kwargs={\"k\": 5})"
   ]
  },
  {
   "cell_type": "code",
   "execution_count": 6,
   "metadata": {},
   "outputs": [],
   "source": [
    "from langchain_community.document_loaders import WebBaseLoader\n",
    "\n",
    "urls = [\"https://www.apa.org/topics/anger/control\"]\n",
    "docs = [WebBaseLoader(url).load() for url in urls]\n",
    "docs_list = [item for sublist in docs for item in sublist]\n",
    "\n",
    "\n",
    "embeddings = GPT4AllEmbeddings()\n",
    "text_splitter = RecursiveCharacterTextSplitter.from_tiktoken_encoder(\n",
    "    chunk_size=256, chunk_overlap=0\n",
    ")\n",
    "splitted_docs = text_splitter.split_documents(docs_list)\n",
    "# let's compute the embeddings \n",
    "vectorstore = Chroma.from_documents(\n",
    "    documents=splitted_docs,\n",
    "    collection_name=\"rag-therapist-anger\",\n",
    "    embedding=GPT4AllEmbeddings(),\n",
    ")\n",
    "retriever_angry= vectorstore.as_retriever(search_kwargs={\"k\": 5})\n"
   ]
  },
  {
   "cell_type": "code",
   "execution_count": 61,
   "metadata": {},
   "outputs": [],
   "source": [
    "mapping_to_retriever = {\n",
    "    \"depression\":  retriever_depression,\n",
    "    \"angry\": retriever_angry\n",
    "}"
   ]
  },
  {
   "cell_type": "code",
   "execution_count": 11,
   "metadata": {},
   "outputs": [
    {
     "data": {
      "text/plain": [
       "{'emotion': 'angry'}"
      ]
     },
     "execution_count": 11,
     "metadata": {},
     "output_type": "execute_result"
    }
   ],
   "source": [
    "# finding the type of emotion \n",
    "# we can also use the model i have trained inside the emotion detection folder\n",
    "# this model can be used as a tool, we can create a structured tool to use that model which return the type of emotion.\n",
    "from langchain.prompts import PromptTemplate\n",
    "from langchain_community.chat_models import ChatOllama\n",
    "from langchain_core.output_parsers import JsonOutputParser\n",
    "# we need to udnerstand what kind of emotion is in query\n",
    "llm = ChatOllama(model=local_llm, format=\"json\", temperature=0)\n",
    "prompt=\"\"\"\n",
    "    Your an expert in understanding the emotion in the query, provided to you by the user. \n",
    "    Your task is to understand the query and assign the emotion based on your semantic understanding, the labels that can be assigned to the queries are:\n",
    "    1. angry\n",
    "    2. depression\n",
    "    3. otherwise\n",
    "    Do not generate any other emotion apart from what is being suggested to you.\n",
    "    Query to assign type of emotion: {Query}, \n",
    "    Provide the respose in Json format so key is going to be emotion and value is type of emotion, do not provide any other kind of explaination.\n",
    "\"\"\"\n",
    "template = PromptTemplate.from_template(prompt)\n",
    "emotion_detection = template | llm | JsonOutputParser()\n",
    "emotion_detection.invoke({\"Query\": \"Shit hit the fence i need money!\"})"
   ]
  },
  {
   "cell_type": "code",
   "execution_count": 65,
   "metadata": {},
   "outputs": [],
   "source": [
    "# this is an LLM based Agent which can handled for the cases where person don't know \n",
    "# if it's depressed or angry like the person has no information about it's condition\n",
    "from langchain.prompts import PromptTemplate\n",
    "from langchain_core.output_parsers import StrOutputParser\n",
    "from langchain.chains import ConversationChain\n",
    "llm = ChatOllama(model=local_llm, temperature=0)\n",
    "PROMPT = \"\"\" As a trained psychologist specialized in emotional well-being, your task is to support individuals facing various challenges in life, including but not limited to:\n",
    "\n",
    "1. Anger Management\n",
    "2. Depression\n",
    "3. Relationship Breakups\n",
    "4. Anxiety\n",
    "5. Family Conflicts\n",
    "\n",
    "The aim is to be a compassionate companion on this journey towards healing and self-discovery, providing practical solutions to navigate these difficult times.\n",
    "\n",
    "When addressing concerns, emphasis will be placed on:\n",
    "\n",
    "- Meditation and mindfulness practices for mental clarity\n",
    "- Spirituality for inner peace and resilience\n",
    "- Focusing on factors within one's control to foster happiness and reduce worry\n",
    "\n",
    "if the input from the user is not related to above discussed point you can do the normal conversation.\n",
    "\n",
    "You will be provided with:\n",
    "Current conversation:\n",
    "{history}\n",
    "Human: {input}\n",
    "AI Assistance:\n",
    "\"\"\"\n",
    "\n",
    "conversation = ConversationChain(\n",
    "    llm = llm,\n",
    "    prompt = PromptTemplate(input_variables=[\"history\",\"input\"],template=PROMPT),\n",
    "    verbose=False,\n",
    ")"
   ]
  },
  {
   "cell_type": "code",
   "execution_count": 70,
   "metadata": {},
   "outputs": [
    {
     "data": {
      "text/plain": [
       "{'input': 'hello',\n",
       " 'history': \"Human: hello\\nAI:  Hello! I'm here to support you in various aspects of emotional well-being, including anger management, depression, relationship breakups, anxiety, and family conflicts. If you're going through any of these issues or something similar, please feel free to share and we can work together towards healing and self-discovery.\\n\\nHowever, if your concern is not related to the above points, I'd be happy to engage in a normal conversation as well! What's on your mind today?\",\n",
       " 'response': \" Hello there! I'm here to support you in various aspects of emotional well-being, including anger management, depression, relationship breakups, anxiety, and family conflicts. If you're going through any of these issues or something similar, please feel free to share and we can work together towards healing and self-discovery.\\n\\nHowever, if your concern is not related to the above points, I'd be happy to engage in a normal conversation as well! What's on your mind today? Is there a particular topic you'd like to discuss or any question you have that I might be able to help answer? Let me know and we can explore it together.\"}"
      ]
     },
     "execution_count": 70,
     "metadata": {},
     "output_type": "execute_result"
    }
   ],
   "source": [
    "conversation.invoke({\"input\":\"hello\",\"history\":[\"\"]})"
   ]
  },
  {
   "cell_type": "code",
   "execution_count": 66,
   "metadata": {},
   "outputs": [],
   "source": [
    "from langchain.prompts import ChatPromptTemplate\n",
    "from langchain_core.output_parsers import StrOutputParser\n",
    "template = \"\"\"\n",
    "    You help everyone by answering questions, and improve your answers from previous answers in History.\n",
    "    Don't try to make up an answer, if you don't know, just say that you don't know.\n",
    "    Answer in the same language the question was asked.\n",
    "    Answer in a way that is easy to understand.\n",
    "    Do not say \"Based on the information you provided, ...\" or \"I think the answer is...\". Just answer the question directly in detail.\n",
    "\n",
    "    History: {chat_history}\n",
    "\n",
    "    Context: {context}\n",
    "\n",
    "    Question: {question}\n",
    "    Answer: \n",
    "\"\"\"\n",
    "\n",
    "prompt = ChatPromptTemplate.from_template(template)\n",
    "rag_chain = prompt | llm | StrOutputParser()\n"
   ]
  },
  {
   "cell_type": "code",
   "execution_count": 67,
   "metadata": {},
   "outputs": [],
   "source": [
    "from langchain.retrievers import ContextualCompressionRetriever\n",
    "from langchain_community.document_compressors.llmlingua_filter import LLMLinguaCompressor\n",
    "from langchain_core.runnables import RunnablePassthrough\n",
    "from langchain import hub\n",
    "\n",
    "compressor = LLMLinguaCompressor(model_name=\"openai-community/gpt2\", device_map=\"cpu\")"
   ]
  },
  {
   "cell_type": "code",
   "execution_count": 85,
   "metadata": {},
   "outputs": [],
   "source": [
    "from typing_extensions import TypedDict\n",
    "from typing import List\n",
    "\n",
    "class AgentState(TypedDict):\n",
    "    question: str\n",
    "    response: str\n",
    "    documents: List[str]\n",
    "    chat_history_chat_agent: List[str]\n",
    "    chat_history: List[str]\n",
    "    \n",
    "# get the emotion of the queries by the user\n",
    "def getEmotions(state):\n",
    "    question = state[\"question\"]\n",
    "    type_of_emotion = emotion_detection.invoke({\"Query\": question})\n",
    "\n",
    "    print(type_of_emotion)\n",
    "    if type_of_emotion[\"emotion\"] == \"angry\":\n",
    "        # we need to perform one type of retrieval which take care of angry part\n",
    "        return \"angry\"\n",
    "    elif type_of_emotion[\"emotion\"] == \"depression\":\n",
    "        # we need to route to another type of retreival \n",
    "        return \"depression\"\n",
    "    else:\n",
    "        return \"chatwithagent\"\n",
    "\n",
    "def depression_retreival(state):\n",
    "    question= state[\"question\"]\n",
    "    # given these documents we can also do much more than just retreiving the data\n",
    "    # we can perform contextual compression \n",
    "    # we can do re-ranking of the documents\n",
    "    compression_retriever = ContextualCompressionRetriever(\n",
    "            base_compressor=compressor, base_retriever=retriever_depression\n",
    "        )\n",
    "    compressed_docs = compression_retriever.get_relevant_documents(question)\n",
    "    history = [doc.page_content for doc in compressed_docs]\n",
    "    return {\"question\": question, \"documents\": compressed_docs, \"documents\": history}\n",
    "\n",
    "\n",
    "def anger_retreival(state):\n",
    "    question= state[\"question\"]\n",
    "    # given these documents we can also do much more than just retreiving the data\n",
    "    # we can perform contextual compression \n",
    "    # we can do re-ranking of the documents\n",
    "    compression_retriever = ContextualCompressionRetriever(\n",
    "            base_compressor=compressor, base_retriever=retriever_angry\n",
    "        )\n",
    "    compressed_docs = compression_retriever.get_relevant_documents(question)\n",
    "    history = [doc.page_content for doc in compressed_docs]\n",
    "    return {\"question\": question, \"documents\": history}\n",
    "\n",
    "def chat_with_agent(state):\n",
    "    question = state[\"question\"]\n",
    "    chat_history_chat_agent = state[\"chat_history_chat_agent\"]\n",
    "    if chat_history_chat_agent == None:\n",
    "        chat_history_chat_agent = [\"\"]\n",
    "    response = conversation.invoke({\"input\": question, \"history\": chat_history_chat_agent })\n",
    "\n",
    "    if len(chat_history_chat_agent) > 10:\n",
    "        del chat_history_chat_agent[0]\n",
    "        chat_history_chat_agent.append(response[\"history\"])\n",
    "    else:\n",
    "        chat_history_chat_agent.append(response[\"history\"])\n",
    "\n",
    "    return {\"question\": question, \"response\": response[\"response\"], \"chat_history_chat_agent\":chat_history_chat_agent}\n",
    "\n",
    "def generate_response(state):\n",
    "    question = state[\"question\"]\n",
    "    context = state[\"documents\"]\n",
    "    chat_history = state[\"chat_history\"]\n",
    "    response = rag_chain.invoke({\"question\": question, \"context\": context, \"chat_history\": chat_history})\n",
    "    if chat_history == None:\n",
    "        chat_history = [response]\n",
    "    elif len(chat_history) > 10:\n",
    "        del chat_history[0]\n",
    "        chat_history.append(response)\n",
    "    \n",
    "    return {\"question\": question, \"response\": response, \"chat_history\": chat_history}\n",
    "\n",
    "\n",
    "def end_of_conversation(state):\n",
    "    return \"end\""
   ]
  },
  {
   "cell_type": "markdown",
   "metadata": {},
   "source": [
    "# creating the workflow."
   ]
  },
  {
   "cell_type": "code",
   "execution_count": 86,
   "metadata": {},
   "outputs": [],
   "source": [
    "from langgraph.graph import END, StateGraph\n",
    "\n",
    "workflow = StateGraph(AgentState)\n",
    "\n",
    "workflow.add_node(\"depression_retreival\", depression_retreival)\n",
    "workflow.add_node(\"anger_retreival\", anger_retreival)\n",
    "workflow.add_node(\"chat_with_agent\", chat_with_agent)\n",
    "workflow.add_node(\"generate_response\",generate_response)\n",
    "\n",
    "workflow.set_conditional_entry_point(\n",
    "    getEmotions,\n",
    "    {\n",
    "        \"angry\": \"anger_retreival\",\n",
    "        \"depression\": \"depression_retreival\",\n",
    "        \"chatwithagent\": \"chat_with_agent\"\n",
    "    }\n",
    ")\n",
    "\n",
    "workflow.add_edge(\"anger_retreival\", \"generate_response\")\n",
    "workflow.add_edge(\"depression_retreival\", \"generate_response\")\n",
    "workflow.add_conditional_edges(\n",
    "    \"chat_with_agent\",\n",
    "    end_of_conversation,\n",
    "    {\n",
    "        \"end\": END\n",
    "    }\n",
    ")\n",
    "\n",
    "workflow.add_conditional_edges(\n",
    "    \"generate_response\",\n",
    "    end_of_conversation,\n",
    "    {\n",
    "        \"end\": END\n",
    "    }\n",
    ")\n"
   ]
  },
  {
   "cell_type": "code",
   "execution_count": 87,
   "metadata": {},
   "outputs": [],
   "source": [
    "app = workflow.compile()"
   ]
  },
  {
   "cell_type": "code",
   "execution_count": 88,
   "metadata": {},
   "outputs": [
    {
     "name": "stdout",
     "output_type": "stream",
     "text": [
      "{'emotion': 'otherwise'}\n",
      "\"Node 'chat_with_agent':\"\n",
      "'\\n---\\n'\n",
      " Hello! I'm here to support you in various aspects of emotional well-being, including anger management, depression, relationship breakups, anxiety, and family conflicts. If you're going through any of these issues or something similar, please feel free to share and we can work together towards healing and self-discovery.\n",
      "\n",
      "However, if your concern is not related to the above points, I'd be happy to engage in a normal conversation as well! Is there a particular topic you'd like to discuss or any question you have that I might be able to help answer? Let me know and we can explore it together. For instance, we could talk about hobbies, books, movies, or even share some jokes to lighten the mood. What would you prefer?\n",
      "\n",
      "If you don't have a specific preference, I can suggest some topics based on your interests if you'd like! Let me know how I can be of help.\n",
      "\n",
      "Additionally, I can recommend meditation and mindfulness practices for mental clarity, as well as spirituality for inner peace and resilience. We can also focus on factors within your control to foster happiness and reduce worry. Let me know if you'd like more information on any of these topics!\n",
      "{'emotion': 'otherwise'}\n",
      "\"Node 'chat_with_agent':\"\n",
      "'\\n---\\n'\n",
      " Hello! I'm here to support you in various aspects of emotional well-being, including anger management, depression, relationship breakups, anxiety, and family conflicts. If you're going through any of these issues or something similar, please feel free to share and we can work together towards healing and self-discovery.\n",
      "\n",
      "However, if your concern is not related to the above points, I'd be happy to engage in a normal conversation as well! Is there a particular topic you'd like to discuss or any question you have that I might be able to help answer? Let me know and we can explore it together. For instance, we could talk about hobbies, books, movies, or even share some jokes to lighten the mood. What would you prefer?\n",
      "\n",
      "If you don't have a specific preference, I can suggest some topics based on your interests if you'd like! Let me know how I can be of help.\n",
      "\n",
      "Additionally, I can recommend meditation and mindfulness practices for mental clarity, as well as spirituality for inner peace and resilience. We can also focus on factors within your control to foster happiness and reduce worry. Let me know if you'd like more information on any of these topics!\n",
      "\n",
      "If you have any favorite hobbies or interests, feel free to share them with me and we can discuss those as well! What's something that brings you joy or helps you relax? I'm here to listen and support in any way I can.\n"
     ]
    },
    {
     "name": "stderr",
     "output_type": "stream",
     "text": [
      "Number of requested results 5 is greater than number of elements in index 1, updating n_results = 1\n"
     ]
    },
    {
     "name": "stdout",
     "output_type": "stream",
     "text": [
      "{'emotion': 'angry'}\n",
      "\"Node 'anger_retreival':\"\n",
      "'\\n---\\n'\n",
      "\"Node 'generate_response':\"\n",
      "'\\n---\\n'\n",
      " I'm sorry to hear that you're feeling angry. It's natural to experience emotions from time to time. If you need someone to talk to or if there's a specific issue that's causing your anger, feel free to share it with me. I'll do my best to help you out or provide some resources for you to explore further. In the meantime, taking deep breaths and engaging in calming activities such as meditation or exercise can help manage feelings of anger.\n"
     ]
    },
    {
     "name": "stderr",
     "output_type": "stream",
     "text": [
      "Number of requested results 5 is greater than number of elements in index 1, updating n_results = 1\n"
     ]
    },
    {
     "name": "stdout",
     "output_type": "stream",
     "text": [
      "{'emotion': 'angry'}\n",
      "\"Node 'anger_retreival':\"\n",
      "'\\n---\\n'\n",
      "\"Node 'generate_response':\"\n",
      "'\\n---\\n'\n",
      " There are several effective ways to help reduce anger:\n",
      "\n",
      "1. Practice relaxation techniques: Deep breathing, progressive muscle relaxation, and meditation are all proven methods for reducing stress and anger.\n",
      "2. Identify triggers: Keep a journal to identify situations or people that trigger your anger. Once you've identified these triggers, you can take steps to avoid them or develop coping strategies.\n",
      "3. Exercise regularly: Regular physical activity can help reduce stress and improve your mood.\n",
      "4. Get enough sleep: Lack of sleep can make it more difficult to manage emotions and increase feelings of irritability and anger.\n",
      "5. Eat a healthy diet: A healthy diet can help improve your mood and energy levels, making it easier to cope with stressors.\n",
      "6. Practice positive thinking: Focus on the good things in your life and try to reframe negative thoughts into positive ones.\n",
      "7. Seek support: Talking to a trusted friend or therapist about your feelings can help you gain perspective and develop effective coping strategies.\n",
      "8. Avoid alcohol and drugs: These substances can increase feelings of anger and make it more difficult to manage emotions effectively.\n",
      "9. Practice good time management: Feeling overwhelmed can lead to increased feelings of anger. Prioritize tasks, set realistic goals, and delegate when necessary to help reduce stress.\n",
      "10. Learn healthy ways to express anger: Instead of lashing out or bottling up your anger, learn healthy ways to express your emotions, such as using \"I\" statements and practicing active listening.\n"
     ]
    }
   ],
   "source": [
    "from pprint import pprint\n",
    "# Run \n",
    "while True:\n",
    "    question = input(\"Enter the question\")\n",
    "    if question.lower() ==\"exit\":\n",
    "        break\n",
    "    inputs = {\"question\": question}\n",
    "    for output in app.stream(inputs):\n",
    "        for key, value in output.items():\n",
    "            pprint(f\"Node '{key}':\")\n",
    "        pprint(\"\\n---\\n\")\n",
    "\n",
    "    print(value[\"response\"])\n"
   ]
  },
  {
   "cell_type": "code",
   "execution_count": 164,
   "metadata": {},
   "outputs": [
    {
     "data": {
      "text/plain": [
       "' It\\'s important to understand that problems cannot be \"let go\" but are resolved through recognition and patience. Trying to disconnect from reality every day isn\\'t possible, and recognizing the causes of your problems can lead to peacefulness and resolution. Be patient with this process and allow yourself time for self-reflection.'"
      ]
     },
     "execution_count": 164,
     "metadata": {},
     "output_type": "execute_result"
    }
   ],
   "source": [
    "value[\"response\"]"
   ]
  },
  {
   "cell_type": "code",
   "execution_count": 157,
   "metadata": {},
   "outputs": [],
   "source": [
    "prompt = hub.pull(\"rlm/rag-prompt\")"
   ]
  },
  {
   "cell_type": "code",
   "execution_count": 158,
   "metadata": {},
   "outputs": [
    {
     "data": {
      "text/plain": [
       "ChatPromptTemplate(input_variables=['context', 'question'], metadata={'lc_hub_owner': 'rlm', 'lc_hub_repo': 'rag-prompt', 'lc_hub_commit_hash': '50442af133e61576e74536c6556cefe1fac147cad032f4377b60c436e6cdcb6e'}, messages=[HumanMessagePromptTemplate(prompt=PromptTemplate(input_variables=['context', 'question'], template=\"You are an assistant for question-answering tasks. Use the following pieces of retrieved context to answer the question. If you don't know the answer, just say that you don't know. Use three sentences maximum and keep the answer concise.\\nQuestion: {question} \\nContext: {context} \\nAnswer:\"))])"
      ]
     },
     "execution_count": 158,
     "metadata": {},
     "output_type": "execute_result"
    }
   ],
   "source": [
    "prompt"
   ]
  }
 ],
 "metadata": {
  "kernelspec": {
   "display_name": "env-langchain",
   "language": "python",
   "name": "python3"
  },
  "language_info": {
   "codemirror_mode": {
    "name": "ipython",
    "version": 3
   },
   "file_extension": ".py",
   "mimetype": "text/x-python",
   "name": "python",
   "nbconvert_exporter": "python",
   "pygments_lexer": "ipython3",
   "version": "3.12.2"
  }
 },
 "nbformat": 4,
 "nbformat_minor": 2
}
